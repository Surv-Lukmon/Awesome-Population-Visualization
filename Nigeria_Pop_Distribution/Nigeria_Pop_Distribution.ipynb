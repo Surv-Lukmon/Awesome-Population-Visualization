{
 "cells": [
  {
   "cell_type": "code",
   "execution_count": 1,
   "metadata": {},
   "outputs": [
    {
     "name": "stderr",
     "output_type": "stream",
     "text": [
      "c:\\ProgramData\\miniconda3\\envs\\qgismaps2025\\Lib\\site-packages\\pyproj\\network.py:59: UserWarning: pyproj unable to set PROJ database path.\n",
      "  _set_context_ca_bundle_path(ca_bundle_path)\n"
     ]
    }
   ],
   "source": [
    "# Import libraries\n",
    "import ee\n",
    "import geemap\n",
    "import geedim as gd\n",
    "import pandas as pd\n",
    "import geopandas as gpd\n",
    "import os"
   ]
  },
  {
   "cell_type": "code",
   "execution_count": 2,
   "metadata": {},
   "outputs": [
    {
     "data": {
      "text/html": [
       "\n",
       "            <style>\n",
       "                .geemap-dark {\n",
       "                    --jp-widgets-color: white;\n",
       "                    --jp-widgets-label-color: white;\n",
       "                    --jp-ui-font-color1: white;\n",
       "                    --jp-layout-color2: #454545;\n",
       "                    background-color: #383838;\n",
       "                }\n",
       "\n",
       "                .geemap-dark .jupyter-button {\n",
       "                    --jp-layout-color3: #383838;\n",
       "                }\n",
       "\n",
       "                .geemap-colab {\n",
       "                    background-color: var(--colab-primary-surface-color, white);\n",
       "                }\n",
       "\n",
       "                .geemap-colab .jupyter-button {\n",
       "                    --jp-layout-color3: var(--colab-primary-surface-color, white);\n",
       "                }\n",
       "            </style>\n",
       "            "
      ],
      "text/plain": [
       "<IPython.core.display.HTML object>"
      ]
     },
     "metadata": {},
     "output_type": "display_data"
    },
    {
     "data": {
      "text/plain": [
       "True"
      ]
     },
     "execution_count": 2,
     "metadata": {},
     "output_type": "execute_result"
    }
   ],
   "source": [
    "# Trigger the authentication flow\n",
    "ee.Authenticate()"
   ]
  },
  {
   "cell_type": "code",
   "execution_count": 3,
   "metadata": {},
   "outputs": [
    {
     "data": {
      "text/html": [
       "\n",
       "            <style>\n",
       "                .geemap-dark {\n",
       "                    --jp-widgets-color: white;\n",
       "                    --jp-widgets-label-color: white;\n",
       "                    --jp-ui-font-color1: white;\n",
       "                    --jp-layout-color2: #454545;\n",
       "                    background-color: #383838;\n",
       "                }\n",
       "\n",
       "                .geemap-dark .jupyter-button {\n",
       "                    --jp-layout-color3: #383838;\n",
       "                }\n",
       "\n",
       "                .geemap-colab {\n",
       "                    background-color: var(--colab-primary-surface-color, white);\n",
       "                }\n",
       "\n",
       "                .geemap-colab .jupyter-button {\n",
       "                    --jp-layout-color3: var(--colab-primary-surface-color, white);\n",
       "                }\n",
       "            </style>\n",
       "            "
      ],
      "text/plain": [
       "<IPython.core.display.HTML object>"
      ]
     },
     "metadata": {},
     "output_type": "display_data"
    }
   ],
   "source": [
    "# Initialize the library\n",
    "ee.Initialize()"
   ]
  },
  {
   "cell_type": "code",
   "execution_count": 4,
   "metadata": {},
   "outputs": [
    {
     "data": {
      "text/html": [
       "\n",
       "            <style>\n",
       "                .geemap-dark {\n",
       "                    --jp-widgets-color: white;\n",
       "                    --jp-widgets-label-color: white;\n",
       "                    --jp-ui-font-color1: white;\n",
       "                    --jp-layout-color2: #454545;\n",
       "                    background-color: #383838;\n",
       "                }\n",
       "\n",
       "                .geemap-dark .jupyter-button {\n",
       "                    --jp-layout-color3: #383838;\n",
       "                }\n",
       "\n",
       "                .geemap-colab {\n",
       "                    background-color: var(--colab-primary-surface-color, white);\n",
       "                }\n",
       "\n",
       "                .geemap-colab .jupyter-button {\n",
       "                    --jp-layout-color3: var(--colab-primary-surface-color, white);\n",
       "                }\n",
       "            </style>\n",
       "            "
      ],
      "text/plain": [
       "<IPython.core.display.HTML object>"
      ]
     },
     "metadata": {},
     "output_type": "display_data"
    }
   ],
   "source": [
    "# Initializes geemap/ GEE Python API\n",
    "geemap.ee_initialize()"
   ]
  },
  {
   "cell_type": "markdown",
   "metadata": {},
   "source": [
    "## 1. Functions for Layers Visualization"
   ]
  },
  {
   "cell_type": "code",
   "execution_count": 5,
   "metadata": {},
   "outputs": [
    {
     "data": {
      "text/html": [
       "\n",
       "            <style>\n",
       "                .geemap-dark {\n",
       "                    --jp-widgets-color: white;\n",
       "                    --jp-widgets-label-color: white;\n",
       "                    --jp-ui-font-color1: white;\n",
       "                    --jp-layout-color2: #454545;\n",
       "                    background-color: #383838;\n",
       "                }\n",
       "\n",
       "                .geemap-dark .jupyter-button {\n",
       "                    --jp-layout-color3: #383838;\n",
       "                }\n",
       "\n",
       "                .geemap-colab {\n",
       "                    background-color: var(--colab-primary-surface-color, white);\n",
       "                }\n",
       "\n",
       "                .geemap-colab .jupyter-button {\n",
       "                    --jp-layout-color3: var(--colab-primary-surface-color, white);\n",
       "                }\n",
       "            </style>\n",
       "            "
      ],
      "text/plain": [
       "<IPython.core.display.HTML object>"
      ]
     },
     "metadata": {},
     "output_type": "display_data"
    }
   ],
   "source": [
    "# Function to visualize a FeatureCollection\n",
    "def FeatureMap(feature, vis_params, name):\n",
    "    Map = geemap.Map(center=[9.613729, 8.736314], zoom =5)\n",
    "    Map.add_basemap(\"SATELLITE\")\n",
    "\n",
    "    styled_layer = feature.style(**vis_params)\n",
    "    \n",
    "    Map.add_layer(styled_layer, {}, name)\n",
    "    return Map"
   ]
  },
  {
   "cell_type": "code",
   "execution_count": 6,
   "metadata": {},
   "outputs": [
    {
     "data": {
      "text/html": [
       "\n",
       "            <style>\n",
       "                .geemap-dark {\n",
       "                    --jp-widgets-color: white;\n",
       "                    --jp-widgets-label-color: white;\n",
       "                    --jp-ui-font-color1: white;\n",
       "                    --jp-layout-color2: #454545;\n",
       "                    background-color: #383838;\n",
       "                }\n",
       "\n",
       "                .geemap-dark .jupyter-button {\n",
       "                    --jp-layout-color3: #383838;\n",
       "                }\n",
       "\n",
       "                .geemap-colab {\n",
       "                    background-color: var(--colab-primary-surface-color, white);\n",
       "                }\n",
       "\n",
       "                .geemap-colab .jupyter-button {\n",
       "                    --jp-layout-color3: var(--colab-primary-surface-color, white);\n",
       "                }\n",
       "            </style>\n",
       "            "
      ],
      "text/plain": [
       "<IPython.core.display.HTML object>"
      ]
     },
     "metadata": {},
     "output_type": "display_data"
    }
   ],
   "source": [
    "# Function to visualize a EE Image/Raster\n",
    "def rasterMap(raster, viz_params, name):\n",
    "    \"\"\"\n",
    "    \"\"\"\n",
    "\n",
    "    Map = geemap.Map(center=[9.613729, 8.736314], zoom =5)\n",
    "    Map.add_basemap(\"SATELLITE\")\n",
    "    Map.add_layer(raster, viz_params, name)\n",
    "    return Map"
   ]
  },
  {
   "cell_type": "markdown",
   "metadata": {},
   "source": [
    "## 2. Study Extent / Regions of Interest (ROIs)"
   ]
  },
  {
   "cell_type": "code",
   "execution_count": 7,
   "metadata": {},
   "outputs": [
    {
     "data": {
      "text/html": [
       "\n",
       "            <style>\n",
       "                .geemap-dark {\n",
       "                    --jp-widgets-color: white;\n",
       "                    --jp-widgets-label-color: white;\n",
       "                    --jp-ui-font-color1: white;\n",
       "                    --jp-layout-color2: #454545;\n",
       "                    background-color: #383838;\n",
       "                }\n",
       "\n",
       "                .geemap-dark .jupyter-button {\n",
       "                    --jp-layout-color3: #383838;\n",
       "                }\n",
       "\n",
       "                .geemap-colab {\n",
       "                    background-color: var(--colab-primary-surface-color, white);\n",
       "                }\n",
       "\n",
       "                .geemap-colab .jupyter-button {\n",
       "                    --jp-layout-color3: var(--colab-primary-surface-color, white);\n",
       "                }\n",
       "            </style>\n",
       "            "
      ],
      "text/plain": [
       "<IPython.core.display.HTML object>"
      ]
     },
     "metadata": {},
     "output_type": "display_data"
    },
    {
     "data": {
      "application/vnd.jupyter.widget-view+json": {
       "model_id": "86546a6059764d699dab95b77c32d8bf",
       "version_major": 2,
       "version_minor": 0
      },
      "text/plain": [
       "Map(center=[9.613729, 8.736314], controls=(WidgetControl(options=['position', 'transparent_bg'], widget=Search…"
      ]
     },
     "execution_count": 7,
     "metadata": {},
     "output_type": "execute_result"
    }
   ],
   "source": [
    "# Study extent from FAO GAUL\n",
    "FAO_adm0 = ee.FeatureCollection(\"FAO/GAUL_SIMPLIFIED_500m/2015/level0\")\n",
    "FAO_adm1 = ee.FeatureCollection(\"FAO/GAUL_SIMPLIFIED_500m/2015/level1\")\n",
    "FAO_adm2 = ee.FeatureCollection(\"FAO/GAUL_SIMPLIFIED_500m/2015/level2\")\n",
    "\n",
    "# Nigerian administrative boundary\n",
    "nigeria_adm0 = FAO_adm0.filter(ee.Filter.eq(\"ADM0_NAME\", \"Nigeria\")) # Change to your desired country\n",
    "nigeria_adm1 = FAO_adm1.filter(ee.Filter.eq(\"ADM0_NAME\", \"Nigeria\")) # Change to your desired country\n",
    "\n",
    "# Set the Nigeria adm0 as the ROI\n",
    "roi = nigeria_adm0.geometry() \n",
    "\n",
    "# Visualize the the Nigerian administrative boundary\n",
    "roi_map = FeatureMap(nigeria_adm0, {\"color\": \"red\", \"fillColor\": \"00000000\", \"width\": 2}, \"Adm0 - Nigeria\")\n",
    "roi_map.addLayer(nigeria_adm1, {\"color\": \"black\", \"fillColor\": \"00000000\", \"width\": 2}, \"Adm1- Nigeria\")\n",
    "\n",
    "roi_map"
   ]
  },
  {
   "cell_type": "code",
   "execution_count": 8,
   "metadata": {},
   "outputs": [
    {
     "data": {
      "text/html": [
       "\n",
       "            <style>\n",
       "                .geemap-dark {\n",
       "                    --jp-widgets-color: white;\n",
       "                    --jp-widgets-label-color: white;\n",
       "                    --jp-ui-font-color1: white;\n",
       "                    --jp-layout-color2: #454545;\n",
       "                    background-color: #383838;\n",
       "                }\n",
       "\n",
       "                .geemap-dark .jupyter-button {\n",
       "                    --jp-layout-color3: #383838;\n",
       "                }\n",
       "\n",
       "                .geemap-colab {\n",
       "                    background-color: var(--colab-primary-surface-color, white);\n",
       "                }\n",
       "\n",
       "                .geemap-colab .jupyter-button {\n",
       "                    --jp-layout-color3: var(--colab-primary-surface-color, white);\n",
       "                }\n",
       "            </style>\n",
       "            "
      ],
      "text/plain": [
       "<IPython.core.display.HTML object>"
      ]
     },
     "metadata": {},
     "output_type": "display_data"
    },
    {
     "name": "stdout",
     "output_type": "stream",
     "text": [
      "Number of features with polygon geometry : 19\n",
      "Number of features with other geometries : 18\n",
      "Number of features with extracted polygons from other geometries : 18\n",
      "Number of total/final feature with polygon geometry : 37\n"
     ]
    }
   ],
   "source": [
    "# The boundary feature collection contains multiple geometry types: 'LineString', 'Polygon'\n",
    "# Function to get geometry types for each Feature in the collection\n",
    "def geom_to_poly(fc):\n",
    "    \"\"\"\n",
    "    \"\"\"\n",
    "    # Extract the geometry type\n",
    "    def geom_type(feat):\n",
    "        geom = feat.geometry().type()\n",
    "        return feat.set(\"geomType\", geom)\n",
    "\n",
    "    fc_filtered= fc.map(geom_type)\n",
    "\n",
    "    # Filter collection to separate features with polygons as geometry and \n",
    "    # features with other types of geometry\n",
    "    fc_polys = fc_filtered.filter(ee.Filter.eq(\"geomType\", \"Polygon\"))\n",
    "    fc_no_polys = fc_filtered.filter(ee.Filter.neq(\"geomType\", \"Polygon\"))\n",
    "\n",
    "    # See the numbers of municipalities with polygon and non-polygon geometry\n",
    "    num_polys = fc_polys.size().getInfo()\n",
    "    num_no_polys = fc_no_polys.size().getInfo()\n",
    "    \n",
    "    print(f\"Number of features with polygon geometry : {num_polys}\")\n",
    "    print(f\"Number of features with other geometries : {num_no_polys}\")\n",
    "\n",
    "    # Get the remaining polygon geometry\n",
    "    # Last geometry (polygon) from the \"fc_no_polys\" GeometryCollection \n",
    "    # This was known after inspecting the \"fc_no_polys\"\n",
    "    def get_geom(feat):\n",
    "        geom2 = feat.geometry().geometries().get(-1)\n",
    "        poly = ee.Geometry(geom2)\n",
    "        return ee.Feature(poly).copyProperties(feat)\n",
    "\n",
    "\n",
    "    fc_polys2 = fc_no_polys.map(get_geom)\n",
    "\n",
    "    fc_polys2.first().geometry()\n",
    "    num_polys2 = fc_polys2.size().getInfo()\n",
    "    print(f\"Number of features with extracted polygons from other geometries : {num_polys2}\")\n",
    "\n",
    "    # Merge  'fc_polys' and fc_polys2'\n",
    "    fc_poly_all = fc_polys.merge(fc_polys2)\n",
    "    \n",
    "    print(f\"Number of total/final feature with polygon geometry : {fc_poly_all.size().getInfo()}\")\n",
    "    \n",
    "    return fc_poly_all\n",
    "\n",
    "\n",
    "# Get the polygon geometry from the \"nigeria_adm1\"\n",
    "nigeria_poly = geom_to_poly(nigeria_adm1)"
   ]
  },
  {
   "cell_type": "markdown",
   "metadata": {},
   "source": [
    "## 3. Download and Process/Aggregate Population Layer"
   ]
  },
  {
   "cell_type": "code",
   "execution_count": 10,
   "metadata": {},
   "outputs": [
    {
     "data": {
      "text/html": [
       "\n",
       "            <style>\n",
       "                .geemap-dark {\n",
       "                    --jp-widgets-color: white;\n",
       "                    --jp-widgets-label-color: white;\n",
       "                    --jp-ui-font-color1: white;\n",
       "                    --jp-layout-color2: #454545;\n",
       "                    background-color: #383838;\n",
       "                }\n",
       "\n",
       "                .geemap-dark .jupyter-button {\n",
       "                    --jp-layout-color3: #383838;\n",
       "                }\n",
       "\n",
       "                .geemap-colab {\n",
       "                    background-color: var(--colab-primary-surface-color, white);\n",
       "                }\n",
       "\n",
       "                .geemap-colab .jupyter-button {\n",
       "                    --jp-layout-color3: var(--colab-primary-surface-color, white);\n",
       "                }\n",
       "            </style>\n",
       "            "
      ],
      "text/plain": [
       "<IPython.core.display.HTML object>"
      ]
     },
     "metadata": {},
     "output_type": "display_data"
    },
    {
     "name": "stdout",
     "output_type": "stream",
     "text": [
      "The Native Projection of the GHSL Pop Layer:  {'type': 'Projection', 'wkt': 'PROJCS[\"World_Mollweide\", \\n  GEOGCS[\"WGS 84\", \\n    DATUM[\"WGS_1984\", \\n      SPHEROID[\"WGS 84\", 6378137.0, 298.257223563, AUTHORITY[\"EPSG\",\"7030\"]], \\n      AUTHORITY[\"EPSG\",\"6326\"]], \\n    PRIMEM[\"Greenwich\", 0.0], \\n    UNIT[\"degree\", 0.017453292519943295], \\n    AXIS[\"Longitude\", EAST], \\n    AXIS[\"Latitude\", NORTH]], \\n  PROJECTION[\"Mollweide\"], \\n  PARAMETER[\"semi_minor\", 6378137.0], \\n  PARAMETER[\"false_easting\", 0.0], \\n  PARAMETER[\"false_northing\", 0.0], \\n  PARAMETER[\"central_meridian\", 0.0], \\n  UNIT[\"m\", 1.0], \\n  AXIS[\"Easting\", EAST], \\n  AXIS[\"Northing\", NORTH]]', 'transform': [100, 0, -18041000, 0, -100, 9000000]}\n",
      "The Native Resolution/Scale of the GHSL Pop Layer:  100\n"
     ]
    }
   ],
   "source": [
    "# GHSL: Global Population Surfaces Image Collection\n",
    "# GHSL: Spatial distribution of residential population. Population Count.\n",
    "# Reference: https://developers.google.com/earth-engine/datasets/catalog/JRC_GHSL_P2023A_GHS_POP#description\n",
    "ghsl_pop_collection = (ee.ImageCollection(\"JRC/GHSL/P2023A/GHS_POP\")\n",
    "            .filterDate(\"2020\", \"2025\")\n",
    "            .filterBounds(roi))\n",
    "\n",
    "\n",
    "# Check the native projection of the GHS pop layer\n",
    "ghsl_native_projection = ghsl_pop_collection.first().projection()\n",
    "ghsl_native_resolution = ghsl_native_projection.nominalScale().getInfo()\n",
    "\n",
    "print(\"The Native Projection of the GHSL Pop Layer: \", ghsl_native_projection.getInfo())\n",
    "print(\"The Native Resolution/Scale of the GHSL Pop Layer: \", ghsl_native_resolution)"
   ]
  },
  {
   "cell_type": "code",
   "execution_count": 11,
   "metadata": {},
   "outputs": [
    {
     "data": {
      "text/html": [
       "\n",
       "            <style>\n",
       "                .geemap-dark {\n",
       "                    --jp-widgets-color: white;\n",
       "                    --jp-widgets-label-color: white;\n",
       "                    --jp-ui-font-color1: white;\n",
       "                    --jp-layout-color2: #454545;\n",
       "                    background-color: #383838;\n",
       "                }\n",
       "\n",
       "                .geemap-dark .jupyter-button {\n",
       "                    --jp-layout-color3: #383838;\n",
       "                }\n",
       "\n",
       "                .geemap-colab {\n",
       "                    background-color: var(--colab-primary-surface-color, white);\n",
       "                }\n",
       "\n",
       "                .geemap-colab .jupyter-button {\n",
       "                    --jp-layout-color3: var(--colab-primary-surface-color, white);\n",
       "                }\n",
       "            </style>\n",
       "            "
      ],
      "text/plain": [
       "<IPython.core.display.HTML object>"
      ]
     },
     "metadata": {},
     "output_type": "display_data"
    },
    {
     "name": "stdout",
     "output_type": "stream",
     "text": [
      "The date of the GHSL pop layer is 2025-01-01\n"
     ]
    },
    {
     "data": {
      "application/vnd.jupyter.widget-view+json": {
       "model_id": "7e3b72727fd44747acf057eb19440d94",
       "version_major": 2,
       "version_minor": 0
      },
      "text/plain": [
       "Map(center=[9.613729, 8.736314], controls=(WidgetControl(options=['position', 'transparent_bg'], widget=Search…"
      ]
     },
     "execution_count": 11,
     "metadata": {},
     "output_type": "execute_result"
    }
   ],
   "source": [
    "# Direct download of GHS pop data for specific year (2025)\n",
    "ghsl_pop = ee.Image(\"JRC/GHSL/P2023A/GHS_POP/2025\").clip(roi) # Change to your desired year. The data is available at 5-years interval.\n",
    "\n",
    "# Inspect the date of the GHS layer\n",
    "ghsl_pop_date = ee.Date(ghsl_pop.get(\"system:time_start\")).format(\"YYYY-MM-dd\").getInfo()\n",
    "print(f\"The date of the GHSL pop layer is {ghsl_pop_date}\")\n",
    "\n",
    "# Visualization parameters for the GHS pop layer\n",
    "vis_params_g_pop = {\n",
    "  \"bands\" : [\"population_count\"],\n",
    "  \"min\" : 0.0,\n",
    "  \"max\": 5.0,\n",
    "  \"palette\" : [\"ffffe7\", \"FFc869\", \"ffac1d\", \"e17735\", \"f2552c\", \"9f0c21\"]\n",
    "}\n",
    "\n",
    "# Add the GHS pop layer to the map and visualize\n",
    "rasterMap(ghsl_pop.clip(roi), vis_params_g_pop, \"GHSL Population - 2025\")"
   ]
  },
  {
   "cell_type": "code",
   "execution_count": 14,
   "metadata": {},
   "outputs": [
    {
     "data": {
      "text/html": [
       "\n",
       "            <style>\n",
       "                .geemap-dark {\n",
       "                    --jp-widgets-color: white;\n",
       "                    --jp-widgets-label-color: white;\n",
       "                    --jp-ui-font-color1: white;\n",
       "                    --jp-layout-color2: #454545;\n",
       "                    background-color: #383838;\n",
       "                }\n",
       "\n",
       "                .geemap-dark .jupyter-button {\n",
       "                    --jp-layout-color3: #383838;\n",
       "                }\n",
       "\n",
       "                .geemap-colab {\n",
       "                    background-color: var(--colab-primary-surface-color, white);\n",
       "                }\n",
       "\n",
       "                .geemap-colab .jupyter-button {\n",
       "                    --jp-layout-color3: var(--colab-primary-surface-color, white);\n",
       "                }\n",
       "            </style>\n",
       "            "
      ],
      "text/plain": [
       "<IPython.core.display.HTML object>"
      ]
     },
     "metadata": {},
     "output_type": "display_data"
    },
    {
     "name": "stdout",
     "output_type": "stream",
     "text": [
      "The Native Projection of the Aggregated GHS Pop Layer:  {'type': 'Projection', 'wkt': 'PROJCS[\"World_Mollweide\", \\n  GEOGCS[\"WGS 84\", \\n    DATUM[\"WGS_1984\", \\n      SPHEROID[\"WGS 84\", 6378137.0, 298.257223563, AUTHORITY[\"EPSG\",\"7030\"]], \\n      AUTHORITY[\"EPSG\",\"6326\"]], \\n    PRIMEM[\"Greenwich\", 0.0], \\n    UNIT[\"degree\", 0.017453292519943295], \\n    AXIS[\"Longitude\", EAST], \\n    AXIS[\"Latitude\", NORTH]], \\n  PROJECTION[\"Mollweide\"], \\n  PARAMETER[\"semi_minor\", 6378137.0], \\n  PARAMETER[\"false_easting\", 0.0], \\n  PARAMETER[\"false_northing\", 0.0], \\n  PARAMETER[\"central_meridian\", 0.0], \\n  UNIT[\"m\", 1.0], \\n  AXIS[\"Easting\", EAST], \\n  AXIS[\"Northing\", NORTH]]', 'transform': [500, 0, -18041000, 0, -500, 9000000]}\n",
      "The Resolution/Scale of the Aggregated GHS Pop Layer:  500\n"
     ]
    }
   ],
   "source": [
    "# Aggregate the GHS population layer to desired lower resolution\n",
    "def ghs_resolution_aggregate(pop_image, native_proj, new_resolution):\n",
    "\n",
    "    \"\"\"\n",
    "    Aggregates a GHS population image to a lower spatial resolution using a specified scale.\n",
    "\n",
    "    Parameters:\n",
    "        pop_image (ee.Image): The GHS population image to be aggregated.\n",
    "        native_proj (ee.Projection): The native projection of the input population image.\n",
    "        new_resolution (float): The desired spatial resolution in meters (e.g., 500 or 1000).\n",
    "\n",
    "    Returns:\n",
    "        ee.Image: The population image aggregated to the specified lower resolution.\n",
    "    \n",
    "    Prints:\n",
    "        The projection information and nominal scale of the aggregated image.\n",
    "    \"\"\"\n",
    "    \n",
    "    # Get the projection at the desired scale\n",
    "    ghs_projection_at_new_resolution = native_proj.atScale(new_resolution)\n",
    "\n",
    "    ghs_pop_at_new_res = pop_image.reduceResolution(\n",
    "        reducer = ee.Reducer.sum().unweighted(),\n",
    "        maxPixels = 1024\n",
    "    ).reproject(\n",
    "        crs = ghs_projection_at_new_resolution #Request the data at the scale and projection of reduced resolution (1km)\n",
    "    )\n",
    "\n",
    "    # Inspect the resolution/scale of the 'ghs_pop_at_new_res'\n",
    "    ghs_pop_at_new_res_projection = ghs_pop_at_new_res.projection()\n",
    "    ghs_pop_at_new_res_resolution = ghs_pop_at_new_res_projection.nominalScale().getInfo()\n",
    "\n",
    "    print(\"The Native Projection of the Aggregated GHS Pop Layer: \", ghs_pop_at_new_res_projection.getInfo())\n",
    "    print(\"The Resolution/Scale of the Aggregated GHS Pop Layer: \", ghs_pop_at_new_res_resolution)\n",
    "\n",
    "    return ghs_pop_at_new_res \n",
    "\n",
    "\n",
    "# Apply function\n",
    "ghsl_pop_500m = ghs_resolution_aggregate(ghsl_pop, ghsl_native_projection, 500)"
   ]
  },
  {
   "cell_type": "markdown",
   "metadata": {},
   "source": [
    "## 4. Export The Population Layer & Boundary Extents"
   ]
  },
  {
   "cell_type": "code",
   "execution_count": 15,
   "metadata": {},
   "outputs": [
    {
     "data": {
      "text/html": [
       "\n",
       "            <style>\n",
       "                .geemap-dark {\n",
       "                    --jp-widgets-color: white;\n",
       "                    --jp-widgets-label-color: white;\n",
       "                    --jp-ui-font-color1: white;\n",
       "                    --jp-layout-color2: #454545;\n",
       "                    background-color: #383838;\n",
       "                }\n",
       "\n",
       "                .geemap-dark .jupyter-button {\n",
       "                    --jp-layout-color3: #383838;\n",
       "                }\n",
       "\n",
       "                .geemap-colab {\n",
       "                    background-color: var(--colab-primary-surface-color, white);\n",
       "                }\n",
       "\n",
       "                .geemap-colab .jupyter-button {\n",
       "                    --jp-layout-color3: var(--colab-primary-surface-color, white);\n",
       "                }\n",
       "            </style>\n",
       "            "
      ],
      "text/plain": [
       "<IPython.core.display.HTML object>"
      ]
     },
     "metadata": {},
     "output_type": "display_data"
    }
   ],
   "source": [
    "# Function to export image to Google Drive\n",
    "def img_export_to_drive(image, desc, aoi, scale, folder_name):\n",
    "    img_Export = ee.batch.Export.image.toDrive(\n",
    "        image = image,\n",
    "        description = desc,\n",
    "        folder = folder_name,\n",
    "        region = aoi,\n",
    "        #crs = \"EPSG:32634\",\n",
    "        scale = scale,\n",
    "        maxPixels = 1e13\n",
    "        )\n",
    "\n",
    "    img_Export.start()\n",
    "    \n",
    "    return img_Export\n",
    "\n",
    "# Export folder\n",
    "out_folder = \"QGIS_Maps_2025\"\n",
    "\n",
    "# Export the Original GHSL population layer\n",
    "#ghsl_pop_export = img_export_to_drive(ghsl_pop.clip(roi), \"GHSL_Pop_Nigeria_2025_100m\", roi, 100, out_folder)\n",
    "\n",
    "# Export the Aggregated GHSL population layer\n",
    "#ghsl_pop_export = img_export_to_drive(ghsl_pop_500m.clip(roi), \"GHSL_Pop_Nigeria_2025_500m\", roi, 500, out_folder)"
   ]
  },
  {
   "cell_type": "code",
   "execution_count": 36,
   "metadata": {},
   "outputs": [
    {
     "data": {
      "text/html": [
       "\n",
       "            <style>\n",
       "                .geemap-dark {\n",
       "                    --jp-widgets-color: white;\n",
       "                    --jp-widgets-label-color: white;\n",
       "                    --jp-ui-font-color1: white;\n",
       "                    --jp-layout-color2: #454545;\n",
       "                    background-color: #383838;\n",
       "                }\n",
       "\n",
       "                .geemap-dark .jupyter-button {\n",
       "                    --jp-layout-color3: #383838;\n",
       "                }\n",
       "\n",
       "                .geemap-colab {\n",
       "                    background-color: var(--colab-primary-surface-color, white);\n",
       "                }\n",
       "\n",
       "                .geemap-colab .jupyter-button {\n",
       "                    --jp-layout-color3: var(--colab-primary-surface-color, white);\n",
       "                }\n",
       "            </style>\n",
       "            "
      ],
      "text/plain": [
       "<IPython.core.display.HTML object>"
      ]
     },
     "metadata": {},
     "output_type": "display_data"
    },
    {
     "data": {
      "text/plain": [
       "{'state': 'RUNNING',\n",
       " 'description': 'GHSL_Pop_Nigeria_2025_500m',\n",
       " 'priority': 100,\n",
       " 'creation_timestamp_ms': 1744033791478,\n",
       " 'update_timestamp_ms': 1744033842861,\n",
       " 'start_timestamp_ms': 1744033797841,\n",
       " 'task_type': 'EXPORT_IMAGE',\n",
       " 'attempt': 1,\n",
       " 'batch_eecu_usage_seconds': 21.195,\n",
       " 'id': '3P4GJTM6KKDDSAZMC7Z3DNTZ',\n",
       " 'name': 'projects/earthengine-legacy/operations/3P4GJTM6KKDDSAZMC7Z3DNTZ'}"
      ]
     },
     "execution_count": 36,
     "metadata": {},
     "output_type": "execute_result"
    }
   ],
   "source": [
    "ghsl_pop_export.status()"
   ]
  },
  {
   "cell_type": "code",
   "execution_count": 10,
   "metadata": {},
   "outputs": [
    {
     "data": {
      "text/html": [
       "\n",
       "            <style>\n",
       "                .geemap-dark {\n",
       "                    --jp-widgets-color: white;\n",
       "                    --jp-widgets-label-color: white;\n",
       "                    --jp-ui-font-color1: white;\n",
       "                    --jp-layout-color2: #454545;\n",
       "                    background-color: #383838;\n",
       "                }\n",
       "\n",
       "                .geemap-dark .jupyter-button {\n",
       "                    --jp-layout-color3: #383838;\n",
       "                }\n",
       "\n",
       "                .geemap-colab {\n",
       "                    background-color: var(--colab-primary-surface-color, white);\n",
       "                }\n",
       "\n",
       "                .geemap-colab .jupyter-button {\n",
       "                    --jp-layout-color3: var(--colab-primary-surface-color, white);\n",
       "                }\n",
       "            </style>\n",
       "            "
      ],
      "text/plain": [
       "<IPython.core.display.HTML object>"
      ]
     },
     "metadata": {},
     "output_type": "display_data"
    }
   ],
   "source": [
    "# Function to export a feature collection to G Drive\n",
    "def feature_export_to_drive(fc, desc, folder):\n",
    "    fc_export = ee.batch.Export.table.toDrive(\n",
    "                    collection = fc, \n",
    "                    description= desc, \n",
    "                    folder = folder, \n",
    "                    fileFormat = \"SHP\",\n",
    "                    )\n",
    "\n",
    "    fc_export.start()\n",
    "    \n",
    "    return fc_export\n",
    "\n",
    "# Export folder\n",
    "out_folder = \"QGIS_Maps_2025\"\n",
    "\n",
    "# Export the boundary feature collection (polygon geometry)\n",
    "#nigeria_adm0_export= feature_export_to_drive(nigeria_adm0, \"Nigeria_Adm0\", out_folder)\n",
    "nigeria_adm1_export= feature_export_to_drive(nigeria_poly, \"Nigeria_Adm1\", out_folder)   "
   ]
  },
  {
   "cell_type": "code",
   "execution_count": null,
   "metadata": {},
   "outputs": [
    {
     "data": {
      "text/html": [
       "\n",
       "            <style>\n",
       "                .geemap-dark {\n",
       "                    --jp-widgets-color: white;\n",
       "                    --jp-widgets-label-color: white;\n",
       "                    --jp-ui-font-color1: white;\n",
       "                    --jp-layout-color2: #454545;\n",
       "                    background-color: #383838;\n",
       "                }\n",
       "\n",
       "                .geemap-dark .jupyter-button {\n",
       "                    --jp-layout-color3: #383838;\n",
       "                }\n",
       "\n",
       "                .geemap-colab {\n",
       "                    background-color: var(--colab-primary-surface-color, white);\n",
       "                }\n",
       "\n",
       "                .geemap-colab .jupyter-button {\n",
       "                    --jp-layout-color3: var(--colab-primary-surface-color, white);\n",
       "                }\n",
       "            </style>\n",
       "            "
      ],
      "text/plain": [
       "<IPython.core.display.HTML object>"
      ]
     },
     "metadata": {},
     "output_type": "display_data"
    },
    {
     "data": {
      "text/plain": [
       "{'state': 'FAILED',\n",
       " 'description': 'Nigeria_Adm0',\n",
       " 'priority': 100,\n",
       " 'creation_timestamp_ms': 1744066667963,\n",
       " 'update_timestamp_ms': 1744066674643,\n",
       " 'start_timestamp_ms': 1744066672792,\n",
       " 'task_type': 'EXPORT_FEATURES',\n",
       " 'attempt': 1,\n",
       " 'batch_eecu_usage_seconds': 0.342183679,\n",
       " 'error_message': \"Shapefiles cannot contain multiple geometry types; found 'Point', 'LineString', 'Polygon'.\",\n",
       " 'id': 'Z4Y4GE2R2755YVXYZIDQ3DCM',\n",
       " 'name': 'projects/134285796370/operations/Z4Y4GE2R2755YVXYZIDQ3DCM'}"
      ]
     },
     "execution_count": 19,
     "metadata": {},
     "output_type": "execute_result"
    }
   ],
   "source": [
    "nigeria_adm1_export.status()"
   ]
  },
  {
   "cell_type": "code",
   "execution_count": null,
   "metadata": {},
   "outputs": [],
   "source": []
  }
 ],
 "metadata": {
  "kernelspec": {
   "display_name": "Python 3",
   "language": "python",
   "name": "python3"
  },
  "language_info": {
   "codemirror_mode": {
    "name": "ipython",
    "version": 3
   },
   "file_extension": ".py",
   "mimetype": "text/x-python",
   "name": "python",
   "nbconvert_exporter": "python",
   "pygments_lexer": "ipython3",
   "version": "3.13.2"
  }
 },
 "nbformat": 4,
 "nbformat_minor": 2
}
