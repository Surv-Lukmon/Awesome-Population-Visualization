{
 "cells": [
  {
   "cell_type": "code",
   "execution_count": 1,
   "metadata": {},
   "outputs": [
    {
     "name": "stderr",
     "output_type": "stream",
     "text": [
      "c:\\ProgramData\\miniconda3\\envs\\qgismaps2025\\Lib\\site-packages\\pyproj\\network.py:59: UserWarning: pyproj unable to set PROJ database path.\n",
      "  _set_context_ca_bundle_path(ca_bundle_path)\n"
     ]
    }
   ],
   "source": [
    "# Import libraries\n",
    "import ee\n",
    "import geemap\n",
    "import geedim as gd\n",
    "import pandas as pd\n",
    "import geopandas as gpd\n",
    "import os"
   ]
  },
  {
   "cell_type": "code",
   "execution_count": 2,
   "metadata": {},
   "outputs": [
    {
     "data": {
      "text/html": [
       "\n",
       "            <style>\n",
       "                .geemap-dark {\n",
       "                    --jp-widgets-color: white;\n",
       "                    --jp-widgets-label-color: white;\n",
       "                    --jp-ui-font-color1: white;\n",
       "                    --jp-layout-color2: #454545;\n",
       "                    background-color: #383838;\n",
       "                }\n",
       "\n",
       "                .geemap-dark .jupyter-button {\n",
       "                    --jp-layout-color3: #383838;\n",
       "                }\n",
       "\n",
       "                .geemap-colab {\n",
       "                    background-color: var(--colab-primary-surface-color, white);\n",
       "                }\n",
       "\n",
       "                .geemap-colab .jupyter-button {\n",
       "                    --jp-layout-color3: var(--colab-primary-surface-color, white);\n",
       "                }\n",
       "            </style>\n",
       "            "
      ],
      "text/plain": [
       "<IPython.core.display.HTML object>"
      ]
     },
     "metadata": {},
     "output_type": "display_data"
    },
    {
     "data": {
      "text/plain": [
       "True"
      ]
     },
     "execution_count": 2,
     "metadata": {},
     "output_type": "execute_result"
    }
   ],
   "source": [
    "# Trigger the authentication flow\n",
    "ee.Authenticate()"
   ]
  },
  {
   "cell_type": "code",
   "execution_count": 3,
   "metadata": {},
   "outputs": [
    {
     "data": {
      "text/html": [
       "\n",
       "            <style>\n",
       "                .geemap-dark {\n",
       "                    --jp-widgets-color: white;\n",
       "                    --jp-widgets-label-color: white;\n",
       "                    --jp-ui-font-color1: white;\n",
       "                    --jp-layout-color2: #454545;\n",
       "                    background-color: #383838;\n",
       "                }\n",
       "\n",
       "                .geemap-dark .jupyter-button {\n",
       "                    --jp-layout-color3: #383838;\n",
       "                }\n",
       "\n",
       "                .geemap-colab {\n",
       "                    background-color: var(--colab-primary-surface-color, white);\n",
       "                }\n",
       "\n",
       "                .geemap-colab .jupyter-button {\n",
       "                    --jp-layout-color3: var(--colab-primary-surface-color, white);\n",
       "                }\n",
       "            </style>\n",
       "            "
      ],
      "text/plain": [
       "<IPython.core.display.HTML object>"
      ]
     },
     "metadata": {},
     "output_type": "display_data"
    }
   ],
   "source": [
    "# Initialize the library\n",
    "ee.Initialize()\n",
    "\n",
    "# Initializes geemap/ GEE Python API\n",
    "geemap.ee_initialize()"
   ]
  },
  {
   "cell_type": "markdown",
   "metadata": {},
   "source": [
    "## 1. Functions for Layers Visualization"
   ]
  },
  {
   "cell_type": "code",
   "execution_count": 4,
   "metadata": {},
   "outputs": [
    {
     "data": {
      "text/html": [
       "\n",
       "            <style>\n",
       "                .geemap-dark {\n",
       "                    --jp-widgets-color: white;\n",
       "                    --jp-widgets-label-color: white;\n",
       "                    --jp-ui-font-color1: white;\n",
       "                    --jp-layout-color2: #454545;\n",
       "                    background-color: #383838;\n",
       "                }\n",
       "\n",
       "                .geemap-dark .jupyter-button {\n",
       "                    --jp-layout-color3: #383838;\n",
       "                }\n",
       "\n",
       "                .geemap-colab {\n",
       "                    background-color: var(--colab-primary-surface-color, white);\n",
       "                }\n",
       "\n",
       "                .geemap-colab .jupyter-button {\n",
       "                    --jp-layout-color3: var(--colab-primary-surface-color, white);\n",
       "                }\n",
       "            </style>\n",
       "            "
      ],
      "text/plain": [
       "<IPython.core.display.HTML object>"
      ]
     },
     "metadata": {},
     "output_type": "display_data"
    }
   ],
   "source": [
    "# Function to visualize a FeatureCollection\n",
    "def feature_map(feature, vis_params, name):\n",
    "    Map = geemap.Map(center=[8.64, 18.05], zoom =3)\n",
    "    Map.add_basemap(\"SATELLITE\")\n",
    "\n",
    "    styled_layer = feature.style(**vis_params)\n",
    "    \n",
    "    Map.add_layer(styled_layer, {}, name)\n",
    "    return Map\n",
    "\n",
    "\n",
    "# Function to visualize a EE Image/Raster\n",
    "def raster_map(raster, viz_params, name):\n",
    "    \"\"\"\n",
    "    \"\"\"\n",
    "\n",
    "    Map = geemap.Map(center=[8.64, 18.05], zoom =3)\n",
    "    Map.add_basemap(\"SATELLITE\")\n",
    "    Map.add_layer(raster, viz_params, name)\n",
    "    return Map"
   ]
  },
  {
   "cell_type": "markdown",
   "metadata": {},
   "source": [
    "## 2. Study Extent / Regions of Interest (ROIs)"
   ]
  },
  {
   "cell_type": "code",
   "execution_count": null,
   "metadata": {},
   "outputs": [
    {
     "data": {
      "text/html": [
       "\n",
       "            <style>\n",
       "                .geemap-dark {\n",
       "                    --jp-widgets-color: white;\n",
       "                    --jp-widgets-label-color: white;\n",
       "                    --jp-ui-font-color1: white;\n",
       "                    --jp-layout-color2: #454545;\n",
       "                    background-color: #383838;\n",
       "                }\n",
       "\n",
       "                .geemap-dark .jupyter-button {\n",
       "                    --jp-layout-color3: #383838;\n",
       "                }\n",
       "\n",
       "                .geemap-colab {\n",
       "                    background-color: var(--colab-primary-surface-color, white);\n",
       "                }\n",
       "\n",
       "                .geemap-colab .jupyter-button {\n",
       "                    --jp-layout-color3: var(--colab-primary-surface-color, white);\n",
       "                }\n",
       "            </style>\n",
       "            "
      ],
      "text/plain": [
       "<IPython.core.display.HTML object>"
      ]
     },
     "metadata": {},
     "output_type": "display_data"
    },
    {
     "data": {
      "application/vnd.jupyter.widget-view+json": {
       "model_id": "f8af459d68bf40dbbafd997038a5453a",
       "version_major": 2,
       "version_minor": 0
      },
      "text/plain": [
       "Map(center=[8.64, 18.05], controls=(WidgetControl(options=['position', 'transparent_bg'], widget=SearchDataGUI…"
      ]
     },
     "execution_count": 16,
     "metadata": {},
     "output_type": "execute_result"
    }
   ],
   "source": [
    "# Function to load boundary shapefile and convert to an Earth Engine Feature Collection (FC)\n",
    "def boundary_to_fc(shp_path):\n",
    "\n",
    "    # Convert shapefile to Earth Engine FeatureCollection\n",
    "    fc = geemap.shp_to_ee(shp_path)\n",
    "\n",
    "    return fc\n",
    "\n",
    "\n",
    "# Path to the boundary shapefile\n",
    "africa_shp_path = \"D:/Lukumon_Projects/QGIS_Maps_2025/Africa_Pop_Distribution/Data/Bdry/Natural_Earth/ne_10m_admin_0_Africa_Dissolved.shp\"\n",
    "\n",
    "# Convert the boundary shapefile to Earth Engine FeatureCollections\n",
    "roi = boundary_to_fc(africa_shp_path)\n",
    "\n",
    "roi_map = feature_map(roi, {\"color\": \"red\", \"fillColor\": \"00000000\", \"width\": 2}, \"Adm0 - Africa\")\n",
    "roi_map"
   ]
  },
  {
   "cell_type": "markdown",
   "metadata": {},
   "source": [
    "## 3. Download and Process/Aggregate Population Layer"
   ]
  },
  {
   "cell_type": "code",
   "execution_count": 20,
   "metadata": {},
   "outputs": [
    {
     "data": {
      "text/html": [
       "\n",
       "            <style>\n",
       "                .geemap-dark {\n",
       "                    --jp-widgets-color: white;\n",
       "                    --jp-widgets-label-color: white;\n",
       "                    --jp-ui-font-color1: white;\n",
       "                    --jp-layout-color2: #454545;\n",
       "                    background-color: #383838;\n",
       "                }\n",
       "\n",
       "                .geemap-dark .jupyter-button {\n",
       "                    --jp-layout-color3: #383838;\n",
       "                }\n",
       "\n",
       "                .geemap-colab {\n",
       "                    background-color: var(--colab-primary-surface-color, white);\n",
       "                }\n",
       "\n",
       "                .geemap-colab .jupyter-button {\n",
       "                    --jp-layout-color3: var(--colab-primary-surface-color, white);\n",
       "                }\n",
       "            </style>\n",
       "            "
      ],
      "text/plain": [
       "<IPython.core.display.HTML object>"
      ]
     },
     "metadata": {},
     "output_type": "display_data"
    },
    {
     "name": "stdout",
     "output_type": "stream",
     "text": [
      "The Native Projection of the GHSL Pop Layer:  {'type': 'Projection', 'wkt': 'PROJCS[\"World_Mollweide\", \\n  GEOGCS[\"WGS 84\", \\n    DATUM[\"WGS_1984\", \\n      SPHEROID[\"WGS 84\", 6378137.0, 298.257223563, AUTHORITY[\"EPSG\",\"7030\"]], \\n      AUTHORITY[\"EPSG\",\"6326\"]], \\n    PRIMEM[\"Greenwich\", 0.0], \\n    UNIT[\"degree\", 0.017453292519943295], \\n    AXIS[\"Longitude\", EAST], \\n    AXIS[\"Latitude\", NORTH]], \\n  PROJECTION[\"Mollweide\"], \\n  PARAMETER[\"semi_minor\", 6378137.0], \\n  PARAMETER[\"false_easting\", 0.0], \\n  PARAMETER[\"false_northing\", 0.0], \\n  PARAMETER[\"central_meridian\", 0.0], \\n  UNIT[\"m\", 1.0], \\n  AXIS[\"Easting\", EAST], \\n  AXIS[\"Northing\", NORTH]]', 'transform': [100, 0, -18041000, 0, -100, 9000000]}\n",
      "The Native Resolution/Scale of the GHSL Pop Layer:  100\n"
     ]
    }
   ],
   "source": [
    "# GHSL: Global Population Surfaces Image Collection\n",
    "# GHSL: Spatial distribution of residential population. Population Count.\n",
    "# Reference: https://developers.google.com/earth-engine/datasets/catalog/JRC_GHSL_P2023A_GHS_POP#description\n",
    "ghsl_pop_collection = (ee.ImageCollection(\"JRC/GHSL/P2023A/GHS_POP\")\n",
    "            .filterDate(\"2020\", \"2025\")\n",
    "            .filterBounds(roi))\n",
    "\n",
    "\n",
    "# Check the native projection of the GHS pop layer\n",
    "ghsl_native_projection = ghsl_pop_collection.first().projection()\n",
    "ghsl_native_resolution = ghsl_native_projection.nominalScale().getInfo()\n",
    "\n",
    "print(\"The Native Projection of the GHSL Pop Layer: \", ghsl_native_projection.getInfo())\n",
    "print(\"The Native Resolution/Scale of the GHSL Pop Layer: \", ghsl_native_resolution)"
   ]
  },
  {
   "cell_type": "code",
   "execution_count": 21,
   "metadata": {},
   "outputs": [
    {
     "data": {
      "text/html": [
       "\n",
       "            <style>\n",
       "                .geemap-dark {\n",
       "                    --jp-widgets-color: white;\n",
       "                    --jp-widgets-label-color: white;\n",
       "                    --jp-ui-font-color1: white;\n",
       "                    --jp-layout-color2: #454545;\n",
       "                    background-color: #383838;\n",
       "                }\n",
       "\n",
       "                .geemap-dark .jupyter-button {\n",
       "                    --jp-layout-color3: #383838;\n",
       "                }\n",
       "\n",
       "                .geemap-colab {\n",
       "                    background-color: var(--colab-primary-surface-color, white);\n",
       "                }\n",
       "\n",
       "                .geemap-colab .jupyter-button {\n",
       "                    --jp-layout-color3: var(--colab-primary-surface-color, white);\n",
       "                }\n",
       "            </style>\n",
       "            "
      ],
      "text/plain": [
       "<IPython.core.display.HTML object>"
      ]
     },
     "metadata": {},
     "output_type": "display_data"
    },
    {
     "name": "stdout",
     "output_type": "stream",
     "text": [
      "The date of the GHSL pop layer is 2025-01-01\n"
     ]
    }
   ],
   "source": [
    "# Direct download of GHS pop data for specific year (2025)\n",
    "ghsl_pop = ee.Image(\"JRC/GHSL/P2023A/GHS_POP/2025\").clip(roi) # Change to your desired year. The data is available at 5-years interval.\n",
    "\n",
    "# Inspect the date of the GHS layer\n",
    "ghsl_pop_date = ee.Date(ghsl_pop.get(\"system:time_start\")).format(\"YYYY-MM-dd\").getInfo()\n",
    "print(f\"The date of the GHSL pop layer is {ghsl_pop_date}\")"
   ]
  },
  {
   "cell_type": "code",
   "execution_count": 22,
   "metadata": {},
   "outputs": [
    {
     "data": {
      "text/html": [
       "\n",
       "            <style>\n",
       "                .geemap-dark {\n",
       "                    --jp-widgets-color: white;\n",
       "                    --jp-widgets-label-color: white;\n",
       "                    --jp-ui-font-color1: white;\n",
       "                    --jp-layout-color2: #454545;\n",
       "                    background-color: #383838;\n",
       "                }\n",
       "\n",
       "                .geemap-dark .jupyter-button {\n",
       "                    --jp-layout-color3: #383838;\n",
       "                }\n",
       "\n",
       "                .geemap-colab {\n",
       "                    background-color: var(--colab-primary-surface-color, white);\n",
       "                }\n",
       "\n",
       "                .geemap-colab .jupyter-button {\n",
       "                    --jp-layout-color3: var(--colab-primary-surface-color, white);\n",
       "                }\n",
       "            </style>\n",
       "            "
      ],
      "text/plain": [
       "<IPython.core.display.HTML object>"
      ]
     },
     "metadata": {},
     "output_type": "display_data"
    },
    {
     "name": "stdout",
     "output_type": "stream",
     "text": [
      "The Native Projection of the Aggregated GHS Pop Layer:  {'type': 'Projection', 'wkt': 'PROJCS[\"World_Mollweide\", \\n  GEOGCS[\"WGS 84\", \\n    DATUM[\"WGS_1984\", \\n      SPHEROID[\"WGS 84\", 6378137.0, 298.257223563, AUTHORITY[\"EPSG\",\"7030\"]], \\n      AUTHORITY[\"EPSG\",\"6326\"]], \\n    PRIMEM[\"Greenwich\", 0.0], \\n    UNIT[\"degree\", 0.017453292519943295], \\n    AXIS[\"Longitude\", EAST], \\n    AXIS[\"Latitude\", NORTH]], \\n  PROJECTION[\"Mollweide\"], \\n  PARAMETER[\"semi_minor\", 6378137.0], \\n  PARAMETER[\"false_easting\", 0.0], \\n  PARAMETER[\"false_northing\", 0.0], \\n  PARAMETER[\"central_meridian\", 0.0], \\n  UNIT[\"m\", 1.0], \\n  AXIS[\"Easting\", EAST], \\n  AXIS[\"Northing\", NORTH]]', 'transform': [500, 0, -18041000, 0, -500, 9000000]}\n",
      "The Resolution/Scale of the Aggregated GHS Pop Layer:  500\n"
     ]
    }
   ],
   "source": [
    "# Aggregate the GHS population layer to desired lower resolution\n",
    "def ghs_resolution_aggregate(pop_image, native_proj, new_resolution):\n",
    "\n",
    "    \"\"\"\n",
    "    Aggregates a GHS population image to a lower spatial resolution using a specified scale.\n",
    "\n",
    "    Parameters:\n",
    "        pop_image (ee.Image): The GHS population image to be aggregated.\n",
    "        native_proj (ee.Projection): The native projection of the input population image.\n",
    "        new_resolution (float): The desired spatial resolution in meters (e.g., 500 or 1000).\n",
    "\n",
    "    Returns:\n",
    "        ee.Image: The population image aggregated to the specified lower resolution.\n",
    "    \n",
    "    Prints:\n",
    "        The projection information and nominal scale of the aggregated image.\n",
    "    \"\"\"\n",
    "    \n",
    "    # Get the projection at the desired scale\n",
    "    ghs_projection_at_new_resolution = native_proj.atScale(new_resolution)\n",
    "\n",
    "    ghs_pop_at_new_res = pop_image.reduceResolution(\n",
    "        reducer = ee.Reducer.sum().unweighted(),\n",
    "        maxPixels = 1024\n",
    "    ).reproject(\n",
    "        crs = ghs_projection_at_new_resolution #Request the data at the scale and projection of reduced resolution (1km)\n",
    "    )\n",
    "\n",
    "    # Inspect the resolution/scale of the 'ghs_pop_at_new_res'\n",
    "    ghs_pop_at_new_res_projection = ghs_pop_at_new_res.projection()\n",
    "    ghs_pop_at_new_res_resolution = ghs_pop_at_new_res_projection.nominalScale().getInfo()\n",
    "\n",
    "    print(\"The Native Projection of the Aggregated GHS Pop Layer: \", ghs_pop_at_new_res_projection.getInfo())\n",
    "    print(\"The Resolution/Scale of the Aggregated GHS Pop Layer: \", ghs_pop_at_new_res_resolution)\n",
    "\n",
    "    return ghs_pop_at_new_res \n",
    "\n",
    "\n",
    "# Apply function\n",
    "ghsl_pop_500m = ghs_resolution_aggregate(ghsl_pop, ghsl_native_projection, 500)"
   ]
  },
  {
   "cell_type": "code",
   "execution_count": null,
   "metadata": {},
   "outputs": [
    {
     "data": {
      "text/html": [
       "\n",
       "            <style>\n",
       "                .geemap-dark {\n",
       "                    --jp-widgets-color: white;\n",
       "                    --jp-widgets-label-color: white;\n",
       "                    --jp-ui-font-color1: white;\n",
       "                    --jp-layout-color2: #454545;\n",
       "                    background-color: #383838;\n",
       "                }\n",
       "\n",
       "                .geemap-dark .jupyter-button {\n",
       "                    --jp-layout-color3: #383838;\n",
       "                }\n",
       "\n",
       "                .geemap-colab {\n",
       "                    background-color: var(--colab-primary-surface-color, white);\n",
       "                }\n",
       "\n",
       "                .geemap-colab .jupyter-button {\n",
       "                    --jp-layout-color3: var(--colab-primary-surface-color, white);\n",
       "                }\n",
       "            </style>\n",
       "            "
      ],
      "text/plain": [
       "<IPython.core.display.HTML object>"
      ]
     },
     "metadata": {},
     "output_type": "display_data"
    }
   ],
   "source": [
    "# Display the population layer\n",
    "# Visualization parameters for the GHS pop layer\n",
    "vis_params_ghs = {\n",
    "  \"bands\" : [\"population_count\"],\n",
    "  \"min\" : 0.0,\n",
    "  \"max\": 50.0,\n",
    "  \"palette\" : [\"ffffe7\", \"FFc869\", \"ffac1d\", \"e17735\", \"f2552c\", \"9f0c21\", \"9f0c21\"]\n",
    "}\n",
    "\n",
    "# Add the GHS pop layer to the map and visualize\n",
    "pop_map = raster_map(ghsl_pop.clip(roi), vis_params_ghs , \"GHSL Population 2025 (100m)\")\n",
    "pop_map.addLayer(ghsl_pop_500m.clip(roi), vis_params_ghs , \"GHSL Population 2025 (500m)\")\n",
    "pop_map"
   ]
  },
  {
   "cell_type": "markdown",
   "metadata": {},
   "source": [
    "## 4. Export The Population Layer "
   ]
  },
  {
   "cell_type": "code",
   "execution_count": null,
   "metadata": {},
   "outputs": [
    {
     "data": {
      "text/html": [
       "\n",
       "            <style>\n",
       "                .geemap-dark {\n",
       "                    --jp-widgets-color: white;\n",
       "                    --jp-widgets-label-color: white;\n",
       "                    --jp-ui-font-color1: white;\n",
       "                    --jp-layout-color2: #454545;\n",
       "                    background-color: #383838;\n",
       "                }\n",
       "\n",
       "                .geemap-dark .jupyter-button {\n",
       "                    --jp-layout-color3: #383838;\n",
       "                }\n",
       "\n",
       "                .geemap-colab {\n",
       "                    background-color: var(--colab-primary-surface-color, white);\n",
       "                }\n",
       "\n",
       "                .geemap-colab .jupyter-button {\n",
       "                    --jp-layout-color3: var(--colab-primary-surface-color, white);\n",
       "                }\n",
       "            </style>\n",
       "            "
      ],
      "text/plain": [
       "<IPython.core.display.HTML object>"
      ]
     },
     "metadata": {},
     "output_type": "display_data"
    }
   ],
   "source": [
    "# Function to export image to Google Drive\n",
    "def img_export_to_drive(image, desc, aoi, scale, folder_name):\n",
    "    img_Export = ee.batch.Export.image.toDrive(\n",
    "        image = image,\n",
    "        description = desc,\n",
    "        folder = folder_name,\n",
    "        region = aoi,\n",
    "        #crs = \"EPSG:32634\",\n",
    "        scale = scale,\n",
    "        maxPixels = 1e13\n",
    "        )\n",
    "\n",
    "    img_Export.start()\n",
    "    \n",
    "    return img_Export\n",
    "\n",
    "\n",
    "# Export the Original GHSL population layer\n",
    "#ghsl_pop_export = img_export_to_drive(ghsl_pop.clip(roi), \"GHSL_Pop_Africa_2025_100m\", roi, 100, \"QGIS_Maps_2025\")\n",
    "\n",
    "# Export the GHSL population layer\n",
    "ghsl_pop_export = img_export_to_drive(ghsl_pop_500m.clip(roi), \"GHSL_Pop_Africa_2025_500m\", roi.geometry(), 500, \"QGIS_Maps_2025\")"
   ]
  },
  {
   "cell_type": "code",
   "execution_count": 24,
   "metadata": {},
   "outputs": [
    {
     "data": {
      "text/html": [
       "\n",
       "            <style>\n",
       "                .geemap-dark {\n",
       "                    --jp-widgets-color: white;\n",
       "                    --jp-widgets-label-color: white;\n",
       "                    --jp-ui-font-color1: white;\n",
       "                    --jp-layout-color2: #454545;\n",
       "                    background-color: #383838;\n",
       "                }\n",
       "\n",
       "                .geemap-dark .jupyter-button {\n",
       "                    --jp-layout-color3: #383838;\n",
       "                }\n",
       "\n",
       "                .geemap-colab {\n",
       "                    background-color: var(--colab-primary-surface-color, white);\n",
       "                }\n",
       "\n",
       "                .geemap-colab .jupyter-button {\n",
       "                    --jp-layout-color3: var(--colab-primary-surface-color, white);\n",
       "                }\n",
       "            </style>\n",
       "            "
      ],
      "text/plain": [
       "<IPython.core.display.HTML object>"
      ]
     },
     "metadata": {},
     "output_type": "display_data"
    },
    {
     "data": {
      "text/plain": [
       "{'state': 'RUNNING',\n",
       " 'description': 'GHSL_Pop_Africa_2025_1km',\n",
       " 'priority': 100,\n",
       " 'creation_timestamp_ms': 1744035739238,\n",
       " 'update_timestamp_ms': 1744036052010,\n",
       " 'start_timestamp_ms': 1744035747658,\n",
       " 'task_type': 'EXPORT_IMAGE',\n",
       " 'attempt': 1,\n",
       " 'batch_eecu_usage_seconds': 3667.877,\n",
       " 'id': 'WVIFGITEWBCSXT6ZFAQJUQHP',\n",
       " 'name': 'projects/earthengine-legacy/operations/WVIFGITEWBCSXT6ZFAQJUQHP'}"
      ]
     },
     "execution_count": 24,
     "metadata": {},
     "output_type": "execute_result"
    }
   ],
   "source": [
    "ghsl_pop_export.status()"
   ]
  }
 ],
 "metadata": {
  "kernelspec": {
   "display_name": "Python 3",
   "language": "python",
   "name": "python3"
  },
  "language_info": {
   "codemirror_mode": {
    "name": "ipython",
    "version": 3
   },
   "file_extension": ".py",
   "mimetype": "text/x-python",
   "name": "python",
   "nbconvert_exporter": "python",
   "pygments_lexer": "ipython3",
   "version": "3.13.2"
  }
 },
 "nbformat": 4,
 "nbformat_minor": 2
}
